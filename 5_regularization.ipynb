{
 "cells": [
  {
   "cell_type": "code",
   "execution_count": 1,
   "metadata": {},
   "outputs": [],
   "source": [
    "import sys, numpy as np\n",
    "from tensorflow.keras.datasets import mnist"
   ]
  },
  {
   "cell_type": "code",
   "execution_count": 15,
   "metadata": {},
   "outputs": [],
   "source": [
    "(x_train, y_train), (x_test, y_test) = mnist.load_data()\n",
    "images, labels = (x_train[0:1000].reshape(1000,28*28) / 255, y_train[0:1000])\n",
    "one_hot_labels = np.zeros((len(labels),10))\n",
    "\n",
    "for i,l in enumerate(labels):\n",
    "    one_hot_labels[i][l] = 1\n",
    "    \n",
    "labels = one_hot_labels\n",
    "test_images = x_test.reshape(len(x_test),28*28) / 255\n",
    "test_labels = np.zeros((len(y_test),10))\n",
    "\n",
    "for i,l in enumerate(y_test):\n",
    "    test_labels[i][l] = 1"
   ]
  },
  {
   "cell_type": "code",
   "execution_count": 16,
   "metadata": {},
   "outputs": [],
   "source": [
    "np.random.seed(1)\n",
    "\n",
    "relu = lambda x: (x >= 0) * x\n",
    "relu2deriv = lambda x: x>=0\n",
    "\n",
    "lr, iterations, hidden_size, pixels_per_image, num_labels = 0.005, 350, 40, 784, 10\n",
    "\n",
    "weights_0_1 = 0.2 * np.random.random((pixels_per_image, hidden_size)) - 0.1\n",
    "weights_1_2 = 0.2 * np.random.random((hidden_size, num_labels)) - 0.1"
   ]
  },
  {
   "cell_type": "code",
   "execution_count": 10,
   "metadata": {},
   "outputs": [
    {
     "name": "stdout",
     "output_type": "stream",
     "text": [
      " I:349 Error:0.104 Correct:0.998"
     ]
    }
   ],
   "source": [
    "for j in range(iterations):\n",
    "    error, correct_cnt = (0.0, 0)\n",
    "    \n",
    "    for i in range(len(images)):\n",
    "        layer_0 = images[i:i+1]\n",
    "        layer_1 = relu(np.dot(layer_0, weights_0_1))\n",
    "        layer_2 = np.dot(layer_1, weights_1_2)\n",
    "        \n",
    "        error += np.sum((labels[i:i+1] - layer_2) ** 2)\n",
    "        \n",
    "        correct_cnt += int(np.argmax(layer_2) == np.argmax(labels[i:i+1]))\n",
    "        \n",
    "        layer_2_delta = (labels[i:i+1] - layer_2)\n",
    "        layer_1_delta = layer_2_delta.dot(weights_1_2.T) * relu2deriv(layer_1)\n",
    "        \n",
    "        weights_1_2 += lr * layer_1.T.dot(layer_2_delta)\n",
    "        weights_0_1 += lr * layer_0.T.dot(layer_1_delta)\n",
    "        \n",
    "    sys.stdout.write(\"\\r\"+ \" I:\"+str(j)+ \" Error:\" + str(error/float(len(images)))[0:5] +\" Correct:\" + str(correct_cnt/float(len(images))))\n",
    "    "
   ]
  },
  {
   "cell_type": "code",
   "execution_count": 11,
   "metadata": {},
   "outputs": [
    {
     "name": "stdout",
     "output_type": "stream",
     "text": [
      " Test-Err:0.742 Test-Acc:0.7873\n"
     ]
    }
   ],
   "source": [
    "for i in range(len(test_images)):\n",
    "    \n",
    "    layer_0 = test_images[i:i+1]\n",
    "    layer_1 = relu(np.dot(layer_0, weights_0_1))\n",
    "    layer_2 = np.dot(layer_1, weights_1_2)\n",
    "    \n",
    "    error += np.sum((test_labels[i:i+1] - layer_2) ** 2)\n",
    "    correct_cnt += int(np.argmax(layer_2) == np.argmax(test_labels[i:i+1]))\n",
    "    \n",
    "sys.stdout.write(\" Test-Err:\" + str(error/float(len(test_images)))[0:5] + \" Test-Acc:\" + str(correct_cnt/float(len(test_images))))\n",
    "print()"
   ]
  },
  {
   "cell_type": "markdown",
   "metadata": {},
   "source": [
    "#### There is overfitting, as the difference between train acc and test acc is over 20%"
   ]
  },
  {
   "cell_type": "code",
   "execution_count": 17,
   "metadata": {},
   "outputs": [
    {
     "name": "stdout",
     "output_type": "stream",
     "text": [
      " I:0 Error:0.722 Correct:0.537 Test-Err:0.601 Test-Acc:0.6488\n",
      " I:10 Error:0.312 Correct:0.901 Test-Err:0.420 Test-Acc:0.8114\n",
      " I:20 Error:0.260 Correct:0.937 Test-Err:0.414 Test-Acc:0.8111\n",
      " I:30 Error:0.232 Correct:0.946 Test-Err:0.417 Test-Acc:0.8066\n",
      " I:40 Error:0.215 Correct:0.956 Test-Err:0.426 Test-Acc:0.8019\n",
      " I:50 Error:0.204 Correct:0.966 Test-Err:0.437 Test-Acc:0.7982\n",
      " I:60 Error:0.194 Correct:0.967 Test-Err:0.448 Test-Acc:0.7921\n",
      " I:70 Error:0.186 Correct:0.975 Test-Err:0.458 Test-Acc:0.7864\n",
      " I:80 Error:0.179 Correct:0.979 Test-Err:0.466 Test-Acc:0.7817\n",
      " I:90 Error:0.172 Correct:0.981 Test-Err:0.474 Test-Acc:0.7758\n",
      " I:100 Error:0.166 Correct:0.984 Test-Err:0.482 Test-Acc:0.7706\n",
      " I:110 Error:0.161 Correct:0.984 Test-Err:0.489 Test-Acc:0.7686\n",
      " I:120 Error:0.157 Correct:0.986 Test-Err:0.496 Test-Acc:0.766\n",
      " I:130 Error:0.153 Correct:0.999 Test-Err:0.502 Test-Acc:0.7622\n",
      " I:140 Error:0.149 Correct:0.991 Test-Err:0.508 Test-Acc:0.758\n",
      " I:150 Error:0.145 Correct:0.991 Test-Err:0.513 Test-Acc:0.7558\n",
      " I:160 Error:0.141 Correct:0.992 Test-Err:0.518 Test-Acc:0.7553\n",
      " I:170 Error:0.138 Correct:0.992 Test-Err:0.524 Test-Acc:0.751\n",
      " I:180 Error:0.135 Correct:0.995 Test-Err:0.528 Test-Acc:0.7505\n",
      " I:190 Error:0.132 Correct:0.995 Test-Err:0.533 Test-Acc:0.7482\n",
      " I:200 Error:0.130 Correct:0.998 Test-Err:0.538 Test-Acc:0.7464\n",
      " I:210 Error:0.127 Correct:0.998 Test-Err:0.544 Test-Acc:0.7446\n",
      " I:220 Error:0.125 Correct:0.998 Test-Err:0.552 Test-Acc:0.7416\n",
      " I:230 Error:0.123 Correct:0.998 Test-Err:0.560 Test-Acc:0.7372\n",
      " I:240 Error:0.121 Correct:0.998 Test-Err:0.569 Test-Acc:0.7344\n",
      " I:250 Error:0.120 Correct:0.999 Test-Err:0.577 Test-Acc:0.7316\n",
      " I:260 Error:0.118 Correct:0.999 Test-Err:0.585 Test-Acc:0.729\n",
      " I:270 Error:0.117 Correct:0.999 Test-Err:0.593 Test-Acc:0.7259\n",
      " I:280 Error:0.115 Correct:0.999 Test-Err:0.600 Test-Acc:0.723\n",
      " I:290 Error:0.114 Correct:0.999 Test-Err:0.607 Test-Acc:0.7196\n",
      " I:300 Error:0.113 Correct:0.999 Test-Err:0.614 Test-Acc:0.7183\n",
      " I:310 Error:0.112 Correct:0.999 Test-Err:0.622 Test-Acc:0.7165\n",
      " I:320 Error:0.111 Correct:0.999 Test-Err:0.629 Test-Acc:0.7133\n",
      " I:330 Error:0.110 Correct:0.999 Test-Err:0.637 Test-Acc:0.7125\n",
      " I:340 Error:0.109 Correct:1.099 Test-Err:0.645 Test-Acc:0.71\n",
      " I:349 Error:0.108 Correct:1.0 Test-Err:0.653 Test-Acc:0.7073\n"
     ]
    }
   ],
   "source": [
    "for j in range(iterations):\n",
    "    error, correct_cnt = (0.0, 0)\n",
    "    \n",
    "    for i in range(len(images)):\n",
    "        layer_0 = images[i:i+1]\n",
    "        layer_1 = relu(np.dot(layer_0, weights_0_1))\n",
    "        layer_2 = np.dot(layer_1, weights_1_2)\n",
    "        \n",
    "        error += np.sum((labels[i:i+1] - layer_2) ** 2)\n",
    "        \n",
    "        correct_cnt += int(np.argmax(layer_2) == np.argmax(labels[i:i+1]))\n",
    "        \n",
    "        layer_2_delta = (labels[i:i+1] - layer_2)\n",
    "        layer_1_delta = layer_2_delta.dot(weights_1_2.T) * relu2deriv(layer_1)\n",
    "        \n",
    "        weights_1_2 += lr * layer_1.T.dot(layer_2_delta)\n",
    "        weights_0_1 += lr * layer_0.T.dot(layer_1_delta)\n",
    "        \n",
    "    sys.stdout.write(\"\\r\"+ \" I:\"+str(j)+ \" Error:\" + str(error/float(len(images)))[0:5] +\" Correct:\" + str(correct_cnt/float(len(images))))\n",
    "    \n",
    "    if(j % 10 == 0 or j == iterations-1):\n",
    "        error, correct_cnt = (0.0, 0)\n",
    "\n",
    "        for i in range(len(test_images)):\n",
    "\n",
    "            layer_0 = test_images[i:i+1]\n",
    "            layer_1 = relu(np.dot(layer_0, weights_0_1))\n",
    "            layer_2 = np.dot(layer_1, weights_1_2)\n",
    "\n",
    "            error += np.sum((test_labels[i:i+1] - layer_2) ** 2)\n",
    "            correct_cnt += int(np.argmax(layer_2) == np.argmax(test_labels[i:i+1]))\n",
    "\n",
    "        sys.stdout.write(\" Test-Err:\" + str(error/float(len(test_images)))[0:5] + \" Test-Acc:\" + str(correct_cnt/float(len(test_images))))\n",
    "        print()"
   ]
  },
  {
   "cell_type": "markdown",
   "metadata": {},
   "source": [
    "#### The best test accuracy is not for the best train accuracy!!! ^"
   ]
  },
  {
   "cell_type": "markdown",
   "metadata": {},
   "source": [
    "#### Dropout"
   ]
  },
  {
   "cell_type": "code",
   "execution_count": 19,
   "metadata": {},
   "outputs": [
    {
     "name": "stdout",
     "output_type": "stream",
     "text": [
      " I:0 Error:0.768 Correct:0.453\n",
      "I:0 Test-Err:0.638 Test-Acc:0.6088 Train-Err:0.768 Train-Acc:0.453\n",
      " I:10 Error:0.341 Correct:0.877\n",
      "I:10 Test-Err:0.428 Test-Acc:0.7972 Train-Err:0.341 Train-Acc:0.877\n",
      " I:20 Error:0.292 Correct:0.899\n",
      "I:20 Test-Err:0.412 Test-Acc:0.8062 Train-Err:0.292 Train-Acc:0.899\n",
      " I:30 Error:0.286 Correct:0.907\n",
      "I:30 Test-Err:0.415 Test-Acc:0.8079 Train-Err:0.286 Train-Acc:0.907\n",
      " I:40 Error:0.266 Correct:0.921\n",
      "I:40 Test-Err:0.421 Test-Acc:0.8118 Train-Err:0.266 Train-Acc:0.921\n",
      " I:50 Error:0.274 Correct:0.925\n",
      "I:50 Test-Err:0.440 Test-Acc:0.8038 Train-Err:0.274 Train-Acc:0.925\n",
      " I:60 Error:0.238 Correct:0.928\n",
      "I:60 Test-Err:0.414 Test-Acc:0.8084 Train-Err:0.238 Train-Acc:0.928\n",
      " I:70 Error:0.224 Correct:0.942\n",
      "I:70 Test-Err:0.401 Test-Acc:0.8109 Train-Err:0.224 Train-Acc:0.942\n",
      " I:80 Error:0.209 Correct:0.951\n",
      "I:80 Test-Err:0.409 Test-Acc:0.8076 Train-Err:0.209 Train-Acc:0.951\n",
      " I:90 Error:0.202 Correct:0.958\n",
      "I:90 Test-Err:0.412 Test-Acc:0.803 Train-Err:0.202 Train-Acc:0.958\n",
      " I:100 Error:0.200 Correct:0.959\n",
      "I:100 Test-Err:0.409 Test-Acc:0.804 Train-Err:0.200 Train-Acc:0.959\n",
      " I:110 Error:0.204 Correct:0.959\n",
      "I:110 Test-Err:0.438 Test-Acc:0.7988 Train-Err:0.204 Train-Acc:0.959\n",
      " I:120 Error:0.195 Correct:0.963\n",
      "I:120 Test-Err:0.426 Test-Acc:0.8028 Train-Err:0.195 Train-Acc:0.963\n",
      " I:130 Error:0.201 Correct:0.966\n",
      "I:130 Test-Err:0.441 Test-Acc:0.7932 Train-Err:0.201 Train-Acc:0.966\n",
      " I:140 Error:0.206 Correct:0.965\n",
      "I:140 Test-Err:0.450 Test-Acc:0.7969 Train-Err:0.206 Train-Acc:0.96\n",
      " I:150 Error:0.199 Correct:0.963\n",
      "I:150 Test-Err:0.445 Test-Acc:0.7814 Train-Err:0.199 Train-Acc:0.963\n",
      " I:160 Error:0.195 Correct:0.969\n",
      "I:160 Test-Err:0.457 Test-Acc:0.7805 Train-Err:0.195 Train-Acc:0.969\n",
      " I:170 Error:0.185 Correct:0.963\n",
      "I:170 Test-Err:0.461 Test-Acc:0.783 Train-Err:0.185 Train-Acc:0.963\n",
      " I:180 Error:0.202 Correct:0.956\n",
      "I:180 Test-Err:0.469 Test-Acc:0.7617 Train-Err:0.202 Train-Acc:0.956\n",
      " I:190 Error:0.173 Correct:0.973\n",
      "I:190 Test-Err:0.458 Test-Acc:0.7823 Train-Err:0.173 Train-Acc:0.973\n",
      " I:200 Error:0.180 Correct:0.969\n",
      "I:200 Test-Err:0.469 Test-Acc:0.7755 Train-Err:0.180 Train-Acc:0.969\n",
      " I:210 Error:0.176 Correct:0.968\n",
      "I:210 Test-Err:0.466 Test-Acc:0.7774 Train-Err:0.176 Train-Acc:0.968\n",
      " I:220 Error:0.184 Correct:0.967\n",
      "I:220 Test-Err:0.467 Test-Acc:0.7685 Train-Err:0.184 Train-Acc:0.967\n",
      " I:230 Error:0.171 Correct:0.971\n",
      "I:230 Test-Err:0.468 Test-Acc:0.778 Train-Err:0.171 Train-Acc:0.97\n",
      " I:240 Error:0.165 Correct:0.971\n",
      "I:240 Test-Err:0.462 Test-Acc:0.7824 Train-Err:0.165 Train-Acc:0.97\n",
      " I:250 Error:0.167 Correct:0.974\n",
      "I:250 Test-Err:0.465 Test-Acc:0.7839 Train-Err:0.167 Train-Acc:0.974\n",
      " I:260 Error:0.167 Correct:0.971\n",
      "I:260 Test-Err:0.461 Test-Acc:0.7789 Train-Err:0.167 Train-Acc:0.971\n",
      " I:270 Error:0.179 Correct:0.967\n",
      "I:270 Test-Err:0.477 Test-Acc:0.764 Train-Err:0.179 Train-Acc:0.967\n",
      " I:280 Error:0.178 Correct:0.973\n",
      "I:280 Test-Err:0.465 Test-Acc:0.7786 Train-Err:0.178 Train-Acc:0.973\n",
      " I:290 Error:0.169 Correct:0.976\n",
      "I:290 Test-Err:0.464 Test-Acc:0.7767 Train-Err:0.169 Train-Acc:0.976\n",
      " I:300 Error:0.171 Correct:0.983\n",
      "I:300 Test-Err:0.479 Test-Acc:0.772 Train-Err:0.171 Train-Acc:0.983\n",
      " I:310 Error:0.165 Correct:0.989\n",
      "I:310 Test-Err:0.467 Test-Acc:0.7724 Train-Err:0.165 Train-Acc:0.98\n",
      " I:320 Error:0.166 Correct:0.981\n",
      "I:320 Test-Err:0.454 Test-Acc:0.7862 Train-Err:0.166 Train-Acc:0.98\n",
      " I:330 Error:0.165 Correct:0.977\n",
      "I:330 Test-Err:0.457 Test-Acc:0.7869 Train-Err:0.165 Train-Acc:0.977\n",
      " I:340 Error:0.176 Correct:0.977\n",
      "I:340 Test-Err:0.462 Test-Acc:0.7782 Train-Err:0.176 Train-Acc:0.977\n",
      " I:349 Error:0.172 Correct:0.974\n",
      "I:349 Test-Err:0.460 Test-Acc:0.7785 Train-Err:0.172 Train-Acc:0.974\n"
     ]
    }
   ],
   "source": [
    "np.random.seed(1)\n",
    "\n",
    "relu = lambda x: (x >= 0) * x\n",
    "relu2deriv = lambda x: x>=0\n",
    "\n",
    "lr, iterations, hidden_size, pixels_per_image, num_labels = 0.005, 350, 40, 784, 10\n",
    "\n",
    "weights_0_1 = 0.2 * np.random.random((pixels_per_image, hidden_size)) - 0.1\n",
    "weights_1_2 = 0.2 * np.random.random((hidden_size, num_labels)) - 0.1\n",
    "\n",
    "\n",
    "for j in range(iterations):\n",
    "    error, correct_cnt = (0.0, 0)\n",
    "    \n",
    "    for i in range(len(images)):\n",
    "        layer_0 = images[i:i+1]\n",
    "        \n",
    "        dropout_mask = np.random.randint(2, size=layer_1.shape)\n",
    "        layer_1 *= dropout_mask * 2\n",
    "        \n",
    "        layer_1 = relu(np.dot(layer_0, weights_0_1))\n",
    "        layer_2 = np.dot(layer_1, weights_1_2)\n",
    "        \n",
    "        error += np.sum((labels[i:i+1] - layer_2) ** 2)\n",
    "        \n",
    "        correct_cnt += int(np.argmax(layer_2) == np.argmax(labels[i:i+1]))\n",
    "        \n",
    "        layer_2_delta = (labels[i:i+1] - layer_2)\n",
    "        layer_1_delta = layer_2_delta.dot(weights_1_2.T) * relu2deriv(layer_1)\n",
    "        layer_1_delta *= dropout_mask\n",
    "        \n",
    "        weights_1_2 += lr * layer_1.T.dot(layer_2_delta)\n",
    "        weights_0_1 += lr * layer_0.T.dot(layer_1_delta)\n",
    "        \n",
    "    sys.stdout.write(\"\\r\"+ \" I:\"+str(j)+ \" Error:\" + str(error/float(len(images)))[0:5] +\" Correct:\" + str(correct_cnt/float(len(images))))\n",
    "    \n",
    "    \n",
    "    if(j % 10 == 0 or j == iterations-1):\n",
    "        test_error, test_correct_cnt = (0.0, 0)\n",
    "\n",
    "        for i in range(len(test_images)):\n",
    "\n",
    "            layer_0 = test_images[i:i+1]\n",
    "            layer_1 = relu(np.dot(layer_0, weights_0_1))\n",
    "            layer_2 = np.dot(layer_1, weights_1_2)\n",
    "\n",
    "            test_error += np.sum((test_labels[i:i+1] - layer_2) ** 2)\n",
    "            test_correct_cnt += int(np.argmax(layer_2) == np.argmax(test_labels[i:i+1]))\n",
    "\n",
    "        sys.stdout.write(\"\\n\" +  \"I:\" + str(j) + \" Test-Err:\" + str(test_error/ float(len(test_images)))[0:5] + \\\n",
    "                         \" Test-Acc:\" + str(test_correct_cnt/ float(len(test_images)))+\" Train-Err:\" + str(error/ float(len(images)))[0:5] +\\\n",
    "                        \" Train-Acc:\" + str(correct_cnt/ float(len(images))))\n",
    "        print()"
   ]
  },
  {
   "cell_type": "markdown",
   "metadata": {},
   "source": [
    "#### Mini batch gradient descent"
   ]
  },
  {
   "cell_type": "code",
   "execution_count": 20,
   "metadata": {},
   "outputs": [
    {
     "name": "stderr",
     "output_type": "stream",
     "text": [
      "C:\\ProgramData\\Anaconda3\\envs\\deeplearning\\lib\\site-packages\\ipykernel_launcher.py:39: RuntimeWarning: invalid value encountered in multiply\n"
     ]
    }
   ],
   "source": [
    "import numpy as np\n",
    "np.random.seed(1)\n",
    "\n",
    "def relu(x):\n",
    "    return (x >= 0) * x\n",
    "\n",
    "def relu2deriv(output):\n",
    "    return output >= 0\n",
    "\n",
    "batch_size = 64\n",
    "alpha, iterations = (0.001, 300)\n",
    "\n",
    "pixels_per_image, num_labels, hidden_size = (784, 10, 100)\n",
    "\n",
    "weights_0_1 = 0.2 * np.random.random((pixels_per_image, hidden_size)) - 0.1\n",
    "weights_1_2 = 0.2 * np.random.random((hidden_size, num_labels)) - 0.1\n",
    "\n",
    "for j in range(iterations):\n",
    "    \n",
    "    error, correct_cnt = (0.0, 0)\n",
    "    \n",
    "    for i in range(int(len(images) / batch_size)):\n",
    "        batch_start, batch_end = ((i * batch_size), ((i+1) * batch_size))\n",
    "        \n",
    "        layer_0 = images[batch_start:batch_end]\n",
    "        layer_1 = relu(np.dot(layer_0, weights_0_1))\n",
    "        dropout_mask = np.random.randint(2, size=layer_1.shape)\n",
    "        \n",
    "        layer_1 *= dropout_mask * 2\n",
    "        layer_2 = np.dot(layer_1, weights_1_2)\n",
    "        \n",
    "        error += np.sum((labels[batch_start:batch_end] - layer_2) ** 2)\n",
    "        \n",
    "        for k in range(batch_size):\n",
    "            correct_cnt += int(np.argmax(layer_2[k:k+1]) == np.argmax(labels[batch_start + k : batch_start + k + 1]))\n",
    "            \n",
    "            layer_2_delta = (labels[batch_start:batch_end] - layer_2) / batch_size\n",
    "            layer_1_delta = layer_2_delta.dot(weights_1_2.T) * relu2deriv(layer_1)\n",
    "            layer_1_delta *= dropout_mask\n",
    "            \n",
    "            weights_1_2 += lr * layer_1.T.dot(layer_2_delta)\n",
    "            weights_0_1 += lr * layer_0.T.dot(layer_1_delta)\n",
    "            \n",
    "        \n",
    "    if(j%10 == 0):\n",
    "        test_error = 0.0\n",
    "        test_correct_cnt = 0\n",
    "        for i in range(len(test_images)):\n",
    "            layer_0 = test_images[i:i+1]\n",
    "            layer_1 = relu(np.dot(layer_0,weights_0_1))\n",
    "            layer_2 = np.dot(layer_1, weights_1_2)"
   ]
  },
  {
   "cell_type": "code",
   "execution_count": null,
   "metadata": {},
   "outputs": [],
   "source": []
  },
  {
   "cell_type": "code",
   "execution_count": null,
   "metadata": {},
   "outputs": [],
   "source": []
  },
  {
   "cell_type": "code",
   "execution_count": null,
   "metadata": {},
   "outputs": [],
   "source": []
  },
  {
   "cell_type": "code",
   "execution_count": null,
   "metadata": {},
   "outputs": [],
   "source": []
  },
  {
   "cell_type": "code",
   "execution_count": null,
   "metadata": {},
   "outputs": [],
   "source": []
  }
 ],
 "metadata": {
  "kernelspec": {
   "display_name": "Python 3",
   "language": "python",
   "name": "python3"
  },
  "language_info": {
   "codemirror_mode": {
    "name": "ipython",
    "version": 3
   },
   "file_extension": ".py",
   "mimetype": "text/x-python",
   "name": "python",
   "nbconvert_exporter": "python",
   "pygments_lexer": "ipython3",
   "version": "3.6.10"
  }
 },
 "nbformat": 4,
 "nbformat_minor": 4
}
