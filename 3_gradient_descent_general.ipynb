{
 "cells": [
  {
   "cell_type": "code",
   "execution_count": 1,
   "metadata": {},
   "outputs": [],
   "source": [
    "import numpy as np"
   ]
  },
  {
   "cell_type": "code",
   "execution_count": 2,
   "metadata": {},
   "outputs": [],
   "source": [
    "def dot_product(w, input):\n",
    "    return np.dot(w, input)"
   ]
  },
  {
   "cell_type": "code",
   "execution_count": 3,
   "metadata": {},
   "outputs": [],
   "source": [
    "weights = [0.1, 0.2, -.1] "
   ]
  },
  {
   "cell_type": "code",
   "execution_count": 4,
   "metadata": {},
   "outputs": [],
   "source": [
    "feature1 =  [8.5, 9.5, 9.9, 9.0]\n",
    "feature2 = [0.65, 0.8, 0.8, 0.9]\n",
    "feature3 = [1.2, 1.3, 0.5, 1.0]"
   ]
  },
  {
   "cell_type": "code",
   "execution_count": 6,
   "metadata": {},
   "outputs": [],
   "source": [
    "y = [1, 1, 0, 1]"
   ]
  },
  {
   "cell_type": "code",
   "execution_count": 7,
   "metadata": {},
   "outputs": [],
   "source": [
    "def neural_network(weight, input):\n",
    "    return dot_product(weight, input)\n",
    "\n",
    "def mse(y_pred, y_true):\n",
    "    return (y_pred - y_true) ** 2"
   ]
  },
  {
   "cell_type": "code",
   "execution_count": 20,
   "metadata": {},
   "outputs": [],
   "source": [
    "learning_rate = 0.1"
   ]
  },
  {
   "cell_type": "code",
   "execution_count": 21,
   "metadata": {},
   "outputs": [],
   "source": [
    "def update(weights, y_pred, y_true):\n",
    "\n",
    "    error = (y_pred - y_true)\n",
    "    delta_weights = np.multiply(weights, float(error))\n",
    "    print(f\"Weights update: {delta_weights}\")\n",
    "    weights = weights - learning_rate * delta_weights\n",
    "    return weights"
   ]
  },
  {
   "cell_type": "code",
   "execution_count": 22,
   "metadata": {},
   "outputs": [],
   "source": [
    "def iter(weights, input, y_true):\n",
    "    y_pred = neural_network(weights, input)\n",
    "    loss = mse(y_pred, y_true)\n",
    "    print(f\"Prediction: {y_pred}, Loss: {loss}\")\n",
    "\n",
    "    weights = update(weights, y_pred, y_true)\n",
    "    return weights"
   ]
  },
  {
   "cell_type": "code",
   "execution_count": 23,
   "metadata": {},
   "outputs": [],
   "source": [
    "inputt = np.array([feature1[0], feature2[0], feature3[0]])"
   ]
  },
  {
   "cell_type": "code",
   "execution_count": 24,
   "metadata": {},
   "outputs": [],
   "source": [
    "weights1 = weights.copy()"
   ]
  },
  {
   "cell_type": "code",
   "execution_count": 25,
   "metadata": {
    "tags": []
   },
   "outputs": [
    {
     "name": "stdout",
     "output_type": "stream",
     "text": [
      "Prediction: 0.8600000000000001, Loss: 0.0036000000000000064\n",
      "Weights update: [ 0.006  0.012 -0.006]\n",
      "Prediction: 0.85484, Loss: 0.0030074256\n",
      "Weights update: [ 0.0054511   0.01090219 -0.0054511 ]\n",
      "Prediction: 0.85015205744, Loss: 0.0025152288654650547\n",
      "Weights update: [ 0.00495778  0.00991555 -0.00495778]\n",
      "Prediction: 0.8458883699582534, Loss: 0.0021057424974255338\n",
      "Weights update: [ 0.00451354  0.00902708 -0.00451354]\n",
      "Prediction: 0.8420067261118508, Loss: 0.0017645650386360432\n",
      "Weights update: [ 0.00411278  0.00822557 -0.00411278]\n",
      "Prediction: 0.8384697315190393, Loss: 0.0014799202431469588\n",
      "Weights update: [ 0.00375066  0.00750133 -0.00375066]\n",
      "Prediction: 0.8352441609732013, Loss: 0.0012421508827049233\n",
      "Weights update: [ 0.00342296  0.00684593 -0.00342296]\n",
      "Prediction: 0.8323004130070747, Loss: 0.001043316680427597\n",
      "Weights update: [ 0.00312601  0.00625201 -0.00312601]\n",
      "Prediction: 0.8296120482984659, Loss: 0.0008768734044306752\n",
      "Weights update: [ 0.00285657  0.00571314 -0.00285657]\n",
      "Prediction: 0.8271553970941457, Loss: 0.0007374155913407316\n",
      "Weights update: [ 0.00261183  0.00522366 -0.00261183]\n",
      "Prediction: 0.8249092237674798, Loss: 0.0006204694286983769\n",
      "Weights update: [ 0.00238928  0.00477857 -0.00238928]\n",
      "Prediction: 0.8228544389232115, Loss: 0.0005223253784948041\n",
      "Weights update: [ 0.00218673  0.00437346 -0.00218673]\n",
      "Prediction: 0.8209738512715052, Loss: 0.0004399024371592201\n",
      "Weights update: [ 0.00200221  0.00400441 -0.00200221]\n",
      "Prediction: 0.819251952926069, Loss: 0.0003706376914675752\n",
      "Weights update: [ 0.00183398  0.00366795 -0.00183398]\n",
      "Prediction: 0.8176747329228368, Loss: 0.00031239618389360834\n",
      "Weights update: [ 0.00168049  0.00336097 -0.00168049]\n",
      "Prediction: 0.8162295146706204, Loss: 0.0002633971464438826\n",
      "Weights update: [ 0.00154035  0.0030807  -0.00154035]\n",
      "Prediction: 0.8149048137823265, Loss: 0.00022215347388582828\n",
      "Weights update: [ 0.00141233  0.00282465 -0.00141233]\n",
      "Prediction: 0.8136902133323518, Loss: 0.00018742194108530198\n",
      "Weights update: [ 0.0012953  0.0025906 -0.0012953]\n",
      "Prediction: 0.8125762540716552, Loss: 0.00015816216647482378\n",
      "Weights update: [ 0.00118828  0.00237655 -0.00118828]\n",
      "Prediction: 0.8115543375292753, Loss: 0.00013350271574041873\n",
      "Weights update: [ 0.00109035  0.00218069 -0.00109035]\n",
      "Prediction: 0.8106166402553593, Loss: 0.0001127130503117144\n",
      "Weights update: [ 0.0010007  0.0020014 -0.0010007]\n",
      "Prediction: 0.8097560377298993, Loss: 9.518027218721875e-05\n",
      "Weights update: [ 0.00091861  0.00183721 -0.00091861]\n",
      "Prediction: 0.8089660366842887, Loss: 8.038981382400956e-05\n",
      "Weights update: [ 0.0008434  0.0016868 -0.0008434]\n",
      "Prediction: 0.8082407147681632, Loss: 6.790937989022185e-05\n",
      "Weights update: [ 0.00077447  0.00154895 -0.00077447]\n",
      "Prediction: 0.8075746666487211, Loss: 5.7375574839247504e-05\n",
      "Weights update: [ 0.00071129  0.00142258 -0.00071129]\n",
      "Prediction: 0.8069629557593394, Loss: 4.848275290651719e-05\n",
      "Weights update: [ 0.00065335  0.00130671 -0.00065335]\n",
      "Prediction: 0.8064010710233017, Loss: 4.097371024535235e-05\n",
      "Weights update: [ 0.00060021  0.00120043 -0.00060021]\n",
      "Prediction: 0.8058848879704128, Loss: 3.463190642430876e-05\n",
      "Weights update: [ 0.00055146  0.00110292 -0.00055146]\n",
      "Prediction: 0.8054106337421374, Loss: 2.927495749155522e-05\n",
      "Weights update: [ 0.00050672  0.00101344 -0.00050672]\n",
      "Prediction: 0.8049748555470172, Loss: 2.4749187713687347e-05\n",
      "Weights update: [ 0.00046566  0.00093131 -0.00046566]\n",
      "Prediction: 0.8045743921844845, Loss: 2.0925063857472055e-05\n",
      "Weights update: [ 0.00042796  0.00085592 -0.00042796]\n",
      "Prediction: 0.80420634830334, Loss: 1.769336604901122e-05\n",
      "Weights update: [ 0.00039335  0.00078669 -0.00039335]\n",
      "Prediction: 0.8038680711024678, Loss: 1.4961974053746345e-05\n",
      "Weights update: [ 0.00036156  0.00072312 -0.00036156]\n",
      "Prediction: 0.8035571292168651, Loss: 1.2653168265474737e-05\n",
      "Weights update: [ 0.00033237  0.00066473 -0.00033237]\n",
      "Prediction: 0.8032712935626893, Loss: 1.0701361573292404e-05\n",
      "Weights update: [ 0.00030555  0.0006111  -0.00030555]\n",
      "Prediction: 0.8030085199415167, Loss: 9.051192238503225e-06\n",
      "Weights update: [ 0.00028091  0.00056183 -0.00028091]\n",
      "Prediction: 0.8027669332269717, Loss: 7.655919482519667e-06\n",
      "Weights update: [ 0.00025828  0.00051656 -0.00025828]\n",
      "Prediction: 0.8025448129768658, Loss: 6.4760730872241e-06\n",
      "Weights update: [ 0.00023748  0.00047496 -0.00023748]\n",
      "Prediction: 0.8023405803314078, Loss: 5.478316287772652e-06\n",
      "Weights update: [ 0.00021837  0.00043673 -0.00021837]\n",
      "Prediction: 0.8021527860732662, Loss: 4.634487877248855e-06\n",
      "Weights update: [ 0.0002008  0.0004016 -0.0002008]\n",
      "Prediction: 0.8019800997386173, Loss: 3.920794974872045e-06\n",
      "Weights update: [ 0.00018465  0.0003693  -0.00018465]\n",
      "Prediction: 0.8018212996800305, Loss: 3.3171325244789076e-06\n",
      "Weights update: [ 0.00016981  0.00033962 -0.00016981]\n",
      "Prediction: 0.8016752639923755, Loss: 2.806509444149891e-06\n",
      "Weights update: [ 0.00015616  0.00031233 -0.00015616]\n",
      "Prediction: 0.8015409622220411, Loss: 2.3745645697576326e-06\n",
      "Weights update: [ 0.00014362  0.00028724 -0.00014362]\n",
      "Prediction: 0.8014174477878209, Loss: 2.0091582311981498e-06\n",
      "Weights update: [ 0.00013209  0.00026418 -0.00013209]\n",
      "Prediction: 0.8013038510489721, Loss: 1.7000275579054256e-06\n",
      "Weights update: [ 0.00012149  0.00024297 -0.00012149]\n",
      "Prediction: 0.8011993729622985, Loss: 1.438495502692534e-06\n",
      "Weights update: [ 0.00011174  0.00022347 -0.00011174]\n",
      "Prediction: 0.8011032792757645, Loss: 1.2172251603313942e-06\n",
      "Weights update: [ 0.00010277  0.00020554 -0.00010277]\n",
      "Prediction: 0.8010148952111872, Loss: 1.0300122896905875e-06\n",
      "Weights update: [ 9.45286257e-05  1.89057251e-04 -9.45286257e-05]\n",
      "Prediction: 0.8009336005930634, Loss: 8.716100673682484e-07\n",
      "Weights update: [ 8.69479168e-05  1.73895834e-04 -8.69479168e-05]\n",
      "Prediction: 0.8008588253846114, Loss: 7.375810412528337e-07\n",
      "Weights update: [ 7.99764987e-05  1.59952997e-04 -7.99764987e-05]\n",
      "Prediction: 0.8007900455957384, Loss: 6.241720433455873e-07\n",
      "Weights update: [ 7.35651917e-05  1.47130383e-04 -7.35651917e-05]\n",
      "Prediction: 0.8007267795308749, Loss: 5.282084864986741e-07\n",
      "Weights update: [ 6.76688178e-05  1.35337636e-04 -6.76688178e-05]\n",
      "Prediction: 0.8006685843475563, Loss: 4.4700502979719464e-07\n",
      "Weights update: [ 6.22458701e-05  1.24491740e-04 -6.22458701e-05]\n",
      "Prediction: 0.8006150528992488, Loss: 3.782900688743439e-07\n",
      "Weights update: [ 5.72582104e-05  1.14516421e-04 -5.72582104e-05]\n",
      "Prediction: 0.800565810838302, Loss: 3.201419047399931e-07\n",
      "Weights update: [ 5.26707922e-05  1.05341584e-04 -5.26707922e-05]\n",
      "Prediction: 0.8005205139570474, Loss: 2.709347794810702e-07\n",
      "Weights update: [ 4.84514070e-05  9.69028141e-05 -4.84514070e-05]\n",
      "Prediction: 0.8004788457470057, Loss: 2.2929324942537938e-07\n",
      "Weights update: [ 4.45704524e-05  8.91409048e-05 -4.45704524e-05]\n",
      "Prediction: 0.8004405151579204, Loss: 1.9405360435756283e-07\n",
      "Weights update: [ 4.10007186e-05  8.20014372e-05 -4.10007186e-05]\n",
      "Prediction: 0.8004052545399263, Loss: 1.6423124213082552e-07\n",
      "Weights update: [ 3.77171934e-05  7.54343868e-05 -3.77171934e-05]\n"
     ]
    }
   ],
   "source": [
    "for i in range(60):\n",
    "\n",
    "    weights1 = iter(weights1, inputt, 0.8)"
   ]
  },
  {
   "cell_type": "code",
   "execution_count": 31,
   "metadata": {},
   "outputs": [],
   "source": [
    "            #toes #win #fans\n",
    "weights = [ [0.1, 0.1, -0.3],# hurt?\n",
    "            [0.1, 0.2, 0.0], # win?\n",
    "            [0.0, 1.3, 0.1] ]# sad?"
   ]
  },
  {
   "cell_type": "code",
   "execution_count": 32,
   "metadata": {},
   "outputs": [],
   "source": [
    "toes = [8.5, 9.5, 9.9, 9.0]\n",
    "wlrec = [0.65,0.8, 0.8, 0.9]\n",
    "nfans = [1.2, 1.3, 0.5, 1.0]\n",
    "hurt = [0.1, 0.0, 0.0, 0.1]\n",
    "win = [ 1, 1, 0, 1]\n",
    "sad = [0.1, 0.0, 0.1, 0.2]"
   ]
  },
  {
   "cell_type": "code",
   "execution_count": 33,
   "metadata": {},
   "outputs": [],
   "source": [
    "lr = 0.01"
   ]
  },
  {
   "cell_type": "code",
   "execution_count": 35,
   "metadata": {},
   "outputs": [],
   "source": [
    "input = [toes[0], wlrec[0], nfans[0]]\n",
    "true = [hurt[0], win[0], sad[0]]\n",
    "\n",
    "pred = neural_network(input, weights)"
   ]
  },
  {
   "cell_type": "code",
   "execution_count": 36,
   "metadata": {},
   "outputs": [],
   "source": [
    "error = [0, 0, 0]\n",
    "delta = [0, 0, 0]"
   ]
  },
  {
   "cell_type": "code",
   "execution_count": 37,
   "metadata": {},
   "outputs": [],
   "source": [
    "for i in range(len(true)):\n",
    "    error[i] = mse(pred[i], true[i])\n",
    "    delta[i] = pred[i] - true[i] "
   ]
  },
  {
   "cell_type": "code",
   "execution_count": 38,
   "metadata": {},
   "outputs": [
    {
     "data": {
      "text/plain": [
       "[0.8150000000000001, 1.54, -2.53]"
      ]
     },
     "execution_count": 38,
     "metadata": {},
     "output_type": "execute_result"
    }
   ],
   "source": [
    "delta"
   ]
  },
  {
   "cell_type": "code",
   "execution_count": 40,
   "metadata": {},
   "outputs": [],
   "source": [
    "import numpy as np\n",
    "def outer_prod(a, b):\n",
    "    \n",
    "    # just a matrix of zeros\n",
    "    out = np.zeros((len(a), len(b)))\n",
    "\n",
    "    for i in range(len(a)):\n",
    "        for j in range(len(b)):\n",
    "            out[i][j] = a[i] * b[j]\n",
    "    return out\n",
    "\n",
    "weight_deltas = outer_prod(delta,input)\n",
    "\n",
    "for i in range(len(weights)):\n",
    "    for j in range(len(weights[0])):\n",
    "        weights[i][j] -= lr * weight_deltas[i][j]"
   ]
  },
  {
   "cell_type": "code",
   "execution_count": 41,
   "metadata": {},
   "outputs": [
    {
     "data": {
      "text/plain": [
       "[[0.030725000000000002, 0.09470250000000001, -0.30978],\n",
       " [-0.030899999999999983, 0.18999000000000002, -0.01848],\n",
       " [0.21505, 1.316445, 0.13036]]"
      ]
     },
     "execution_count": 41,
     "metadata": {},
     "output_type": "execute_result"
    }
   ],
   "source": [
    "weights"
   ]
  },
  {
   "cell_type": "code",
   "execution_count": null,
   "metadata": {},
   "outputs": [],
   "source": []
  },
  {
   "cell_type": "code",
   "execution_count": null,
   "metadata": {},
   "outputs": [],
   "source": []
  },
  {
   "cell_type": "code",
   "execution_count": null,
   "metadata": {},
   "outputs": [],
   "source": []
  },
  {
   "cell_type": "code",
   "execution_count": null,
   "metadata": {},
   "outputs": [],
   "source": []
  },
  {
   "cell_type": "code",
   "execution_count": null,
   "metadata": {},
   "outputs": [],
   "source": []
  },
  {
   "cell_type": "code",
   "execution_count": null,
   "metadata": {},
   "outputs": [],
   "source": []
  }
 ],
 "metadata": {
  "kernelspec": {
   "display_name": "Python 3",
   "language": "python",
   "name": "python3"
  },
  "language_info": {
   "codemirror_mode": {
    "name": "ipython",
    "version": 3
   },
   "file_extension": ".py",
   "mimetype": "text/x-python",
   "name": "python",
   "nbconvert_exporter": "python",
   "pygments_lexer": "ipython3",
   "version": "3.6.10"
  }
 },
 "nbformat": 4,
 "nbformat_minor": 4
}
