{
 "cells": [
  {
   "cell_type": "code",
   "execution_count": 6,
   "metadata": {},
   "outputs": [],
   "source": [
    "import numpy as np\n",
    "weights = np.array([0.5, 0.48, -0.7])\n",
    "alpha=0.1\n",
    "\n",
    "streetlights = np.array( [ [ 1, 0, 1 ],\n",
    "[ 0, 1, 1 ],\n",
    "[ 0, 0, 1 ],\n",
    "[ 1, 1, 1 ],\n",
    "[ 0, 1, 1 ],\n",
    "[ 1, 0, 1 ] ] )\n",
    "walk_vs_stop = np.array( [ 0, 1, 0, 1, 1, 0 ] )"
   ]
  },
  {
   "cell_type": "markdown",
   "metadata": {},
   "source": [
    "#### For one data point, the training is as follows"
   ]
  },
  {
   "cell_type": "code",
   "execution_count": 14,
   "metadata": {},
   "outputs": [
    {
     "name": "stdout",
     "output_type": "stream",
     "text": [
      "Error: 0.03525671201071958\n",
      "Error: 0.012692416323859059\n",
      "Error: 0.004569269876589265\n",
      "Error: 0.001644937155572137\n",
      "Error: 0.0005921773760059703\n",
      "Error: 0.0002131838553621487\n",
      "Error: 7.674618793037353e-05\n",
      "Error: 2.762862765493447e-05\n",
      "Error: 9.94630595577641e-06\n",
      "Error: 3.580670144079507e-06\n",
      "Error: 1.2890412518686226e-06\n",
      "Error: 4.6405485067276465e-07\n",
      "Error: 1.6705974624215898e-07\n",
      "Error: 6.014150864718812e-08\n",
      "Error: 2.1650943112987725e-08\n",
      "Error: 7.794339520679501e-09\n",
      "Error: 2.8059622274399156e-09\n",
      "Error: 1.0101464018769582e-09\n",
      "Error: 3.636527046765518e-10\n",
      "Error: 1.3091497368406677e-10\n"
     ]
    }
   ],
   "source": [
    "inp = streetlights[0]\n",
    "out = walk_vs_stop[0]\n",
    "\n",
    "lr = 0.2\n",
    "\n",
    "for iteration in range(20):\n",
    "    \n",
    "    prediction = inp.dot(weights)\n",
    "    error = (prediction - out) ** 2\n",
    "    delta = prediction - out\n",
    "    weights = weights - lr * (inp*delta)\n",
    "    \n",
    "    print(f\"Error: {error}\")"
   ]
  },
  {
   "cell_type": "markdown",
   "metadata": {},
   "source": [
    "#### For the whole training dataset, stochastic gradient descent example"
   ]
  },
  {
   "cell_type": "code",
   "execution_count": 15,
   "metadata": {},
   "outputs": [
    {
     "name": "stdout",
     "output_type": "stream",
     "text": [
      "Total error in the epoch 0: 0.011170536140598803\n",
      "Total error in the epoch 1: 0.0005628475491129284\n",
      "Total error in the epoch 2: 0.0017042364666880645\n",
      "Total error in the epoch 3: 0.00853666150662986\n",
      "Total error in the epoch 4: 0.017460060318271305\n",
      "Total error in the epoch 5: 0.026435943451346124\n",
      "Total error in the epoch 6: 0.03440032740575799\n",
      "Total error in the epoch 7: 0.04088253398222403\n",
      "Total error in the epoch 8: 0.045760358723029707\n",
      "Total error in the epoch 9: 0.04910505729231073\n",
      "Total error in the epoch 10: 0.051085070124652264\n",
      "Total error in the epoch 11: 0.05190781696654241\n",
      "Total error in the epoch 12: 0.05178588271237062\n",
      "Total error in the epoch 13: 0.05091859551525854\n",
      "Total error in the epoch 14: 0.04948312053766024\n",
      "Total error in the epoch 15: 0.04763126757651895\n",
      "Total error in the epoch 16: 0.045489582704755796\n",
      "Total error in the epoch 17: 0.04316119559522053\n",
      "Total error in the epoch 18: 0.04072848205793366\n",
      "Total error in the epoch 19: 0.03825598091440927\n"
     ]
    }
   ],
   "source": [
    "weights = np.array([0.5, 0.48, -0.7])\n",
    "lr=0.02\n",
    "\n",
    "for iteration in range(20):\n",
    "    \n",
    "    total_error = 0\n",
    "    for i in range(len(walk_vs_stop)):\n",
    "        \n",
    "        data_point = streetlights[i]\n",
    "        true_label = walk_vs_stop[i]\n",
    "        \n",
    "        prediction = data_point.dot(weights)\n",
    "        error = (prediction - true_label) ** 2\n",
    "        \n",
    "        total_error += error\n",
    "        \n",
    "        delta = prediction - true_label\n",
    "        \n",
    "        weights = weights -  lr * (data_point * delta)\n",
    "    \n",
    "    print(f\"Total error in the epoch {iteration}: {error}\")"
   ]
  },
  {
   "cell_type": "code",
   "execution_count": 16,
   "metadata": {},
   "outputs": [
    {
     "data": {
      "text/plain": [
       "array([ 0.40047151,  0.9494756 , -0.21270381])"
      ]
     },
     "execution_count": 16,
     "metadata": {},
     "output_type": "execute_result"
    }
   ],
   "source": [
    "weights"
   ]
  },
  {
   "cell_type": "markdown",
   "metadata": {},
   "source": [
    "#### ^ Note that the second weight for middle light is close to one, as there is clear correlation between that light and walk"
   ]
  },
  {
   "cell_type": "code",
   "execution_count": 17,
   "metadata": {},
   "outputs": [],
   "source": [
    "np.random.seed(1)\n",
    "\n",
    "def relu(x):\n",
    "    return (x > 0) * x\n",
    "\n",
    "lr = 0.2\n",
    "hidden_size = 4\n",
    "\n",
    "streetlights = np.array( [[ 1, 0, 1 ],\n",
    "                        [ 0, 1, 1 ],\n",
    "                        [ 0, 0, 1 ],\n",
    "                        [ 1, 1, 1 ] ] )\n",
    "walk_vs_stop = np.array([[ 1, 1, 0, 0]]).T"
   ]
  },
  {
   "cell_type": "code",
   "execution_count": 19,
   "metadata": {},
   "outputs": [],
   "source": [
    "weights_0_1 = 2 * np.random.random((3, hidden_size)) - 1\n",
    "weights_1_2 = 2 * np.random.random((hidden_size, 1)) - 1\n",
    "\n",
    "layer_0 = streetlights[0]\n",
    "layer_1 = relu(np.dot(layer_0, weights_0_1))\n",
    "layer_2 = np.dot(layer_1, weights_1_2)"
   ]
  },
  {
   "cell_type": "code",
   "execution_count": 33,
   "metadata": {},
   "outputs": [
    {
     "name": "stdout",
     "output_type": "stream",
     "text": [
      "Error: 1.3824066195432045\n",
      "Error: 1.2497664874359542\n",
      "Error: 1.0332316634972858\n",
      "Error: 0.7615225021830151\n",
      "Error: 0.42911286887627886\n",
      "Error: 0.13845819038225982\n"
     ]
    }
   ],
   "source": [
    "def relu2derivative(output):\n",
    "    return output > 0\n",
    "\n",
    "lr = 0.2\n",
    "hidden_size = 4\n",
    "\n",
    "weights_0_1 = 2 * np.random.random((3, hidden_size)) - 1\n",
    "weights_1_2 = 2 * np.random.random((hidden_size, 1)) - 1\n",
    "\n",
    "for iteration in range(60):\n",
    "    layer_2_error = 0\n",
    "    for i in range(len(streetlights)):\n",
    "        layer_0 = streetlights[i:i+1]\n",
    "        layer_1 = relu(np.dot(layer_0, weights_0_1))\n",
    "        layer_2 = relu(np.dot(layer_1, weights_1_2))\n",
    "        \n",
    "        layer_2_error += np.sum((layer_2 - walk_vs_stop[i:i+1]) ** 2)\n",
    "        \n",
    "        layer_2_delta = (walk_vs_stop[i:i+1] - layer_2)\n",
    "        layer_1_delta = layer_2_delta.dot(weights_1_2.T) * relu2derivative(layer_1)\n",
    "        \n",
    "        weights_1_2 += lr * layer_1.T.dot(layer_2_delta)\n",
    "        weights_0_1 += lr * layer_0.T.dot(layer_1_delta)\n",
    "        \n",
    "    if iteration % 10 == 9:\n",
    "        print(f\"Error: {layer_2_error}\")\n",
    "        "
   ]
  },
  {
   "cell_type": "code",
   "execution_count": null,
   "metadata": {},
   "outputs": [],
   "source": []
  },
  {
   "cell_type": "code",
   "execution_count": null,
   "metadata": {},
   "outputs": [],
   "source": []
  },
  {
   "cell_type": "code",
   "execution_count": null,
   "metadata": {},
   "outputs": [],
   "source": []
  },
  {
   "cell_type": "code",
   "execution_count": null,
   "metadata": {},
   "outputs": [],
   "source": []
  },
  {
   "cell_type": "code",
   "execution_count": null,
   "metadata": {},
   "outputs": [],
   "source": []
  },
  {
   "cell_type": "code",
   "execution_count": null,
   "metadata": {},
   "outputs": [],
   "source": []
  }
 ],
 "metadata": {
  "kernelspec": {
   "display_name": "Python 3",
   "language": "python",
   "name": "python3"
  },
  "language_info": {
   "codemirror_mode": {
    "name": "ipython",
    "version": 3
   },
   "file_extension": ".py",
   "mimetype": "text/x-python",
   "name": "python",
   "nbconvert_exporter": "python",
   "pygments_lexer": "ipython3",
   "version": "3.6.10"
  }
 },
 "nbformat": 4,
 "nbformat_minor": 4
}
