{
 "metadata": {
  "language_info": {
   "codemirror_mode": {
    "name": "ipython",
    "version": 3
   },
   "file_extension": ".py",
   "mimetype": "text/x-python",
   "name": "python",
   "nbconvert_exporter": "python",
   "pygments_lexer": "ipython3",
   "version": "3.6.10-final"
  },
  "orig_nbformat": 2,
  "kernelspec": {
   "name": "Python 3.6.10 64-bit ('deeplearning': conda)",
   "display_name": "Python 3.6.10 64-bit ('deeplearning': conda)",
   "metadata": {
    "interpreter": {
     "hash": "94798a07477d283dccef05b0adbefc0f5fa0f7f1dab85cfae6230d25b548a807"
    }
   }
  }
 },
 "nbformat": 4,
 "nbformat_minor": 2,
 "cells": [
  {
   "cell_type": "code",
   "execution_count": 1,
   "metadata": {},
   "outputs": [],
   "source": [
    "import numpy as np"
   ]
  },
  {
   "cell_type": "code",
   "execution_count": 70,
   "metadata": {},
   "outputs": [],
   "source": [
    "def vector_dot_product(w, inp):\n",
    "    assert len(w) == len(inp), \"Input lengths must match!\"\n",
    "    return np.dot(w, inp)"
   ]
  },
  {
   "cell_type": "code",
   "execution_count": 71,
   "metadata": {},
   "outputs": [],
   "source": [
    "x = [1, 2, 3, 4]\n",
    "w = [1, 2, 3, 4]\n",
    "\n",
    "out = vector_dot_product(w, x)"
   ]
  },
  {
   "cell_type": "code",
   "execution_count": 74,
   "metadata": {},
   "outputs": [],
   "source": [
    "def single_perceptron_single_output(x, w):\n",
    "    return dot_product(w, x)"
   ]
  },
  {
   "cell_type": "code",
   "execution_count": 75,
   "metadata": {},
   "outputs": [],
   "source": [
    "def single_perceptron(weights, inputt):\n",
    "    if isinstance(weights, list):\n",
    "        weights = np.array(weights)\n",
    "    if isinstance(inputt, list):\n",
    "        inputt = np.array(inputt)\n",
    "\n",
    "    return inputt.dot(weights)"
   ]
  },
  {
   "cell_type": "code",
   "execution_count": 90,
   "metadata": {},
   "outputs": [],
   "source": [
    "# Multiple input, single output"
   ]
  },
  {
   "cell_type": "code",
   "execution_count": 91,
   "metadata": {},
   "outputs": [
    {
     "output_type": "execute_result",
     "data": {
      "text/plain": "30"
     },
     "metadata": {},
     "execution_count": 91
    }
   ],
   "source": [
    "single_perceptron([1, 2, 3, 4], [1, 2, 3, 4])"
   ]
  },
  {
   "cell_type": "code",
   "execution_count": 92,
   "metadata": {},
   "outputs": [],
   "source": [
    "w = np.array([4, 2, 3, 4]).reshape(-1, 4)\n",
    "x = np.array([7])"
   ]
  },
  {
   "cell_type": "code",
   "execution_count": 93,
   "metadata": {},
   "outputs": [
    {
     "output_type": "execute_result",
     "data": {
      "text/plain": "array([28, 14, 21, 28])"
     },
     "metadata": {},
     "execution_count": 93
    }
   ],
   "source": [
    "np.dot(w.T, x)"
   ]
  },
  {
   "cell_type": "code",
   "execution_count": 94,
   "metadata": {},
   "outputs": [],
   "source": [
    "# Single input, multiple output"
   ]
  },
  {
   "cell_type": "code",
   "execution_count": 95,
   "metadata": {},
   "outputs": [
    {
     "output_type": "execute_result",
     "data": {
      "text/plain": "array([28, 14, 21, 28])"
     },
     "metadata": {},
     "execution_count": 95
    }
   ],
   "source": [
    "single_perceptron(w, x)"
   ]
  },
  {
   "cell_type": "code",
   "execution_count": 96,
   "metadata": {},
   "outputs": [],
   "source": [
    "# Multiple input, multiple output"
   ]
  },
  {
   "cell_type": "code",
   "execution_count": 106,
   "metadata": {},
   "outputs": [],
   "source": [
    "# rows indicate consecutive neurons, columns indicate subsequent input features\n",
    "w = np.array([[0.2, 0.3, 0.4], [0.15, 0.6, 0.7], [0.1, 0.0, 0.5]])\n",
    "\n",
    "# an input with three features\n",
    "inputt = np.array([1, 2, 3])"
   ]
  },
  {
   "cell_type": "code",
   "execution_count": 99,
   "metadata": {},
   "outputs": [],
   "source": [
    "def neural_network(w, inputt):\n",
    "    return np.dot(w, inputt)"
   ]
  },
  {
   "cell_type": "code",
   "execution_count": 103,
   "metadata": {},
   "outputs": [
    {
     "output_type": "execute_result",
     "data": {
      "text/plain": "array([2.  , 3.45, 1.6 ])"
     },
     "metadata": {},
     "execution_count": 103
    }
   ],
   "source": [
    "neural_network(w, inputt)"
   ]
  },
  {
   "cell_type": "code",
   "execution_count": 105,
   "metadata": {},
   "outputs": [],
   "source": [
    "assert np.dot(w[0], inputt) == 2."
   ]
  },
  {
   "cell_type": "code",
   "execution_count": 108,
   "metadata": {
    "tags": []
   },
   "outputs": [
    {
     "output_type": "stream",
     "name": "stdout",
     "text": "Output of first neuron: 2.0\nOutput of second neuron: 3.4499999999999993\nOutput of third neuron: 1.6\n"
    }
   ],
   "source": [
    "print(f\"Output of first neuron: {np.dot(w[0], inputt)}\")\n",
    "print(f\"Output of second neuron: {np.dot(w[1], inputt)}\")\n",
    "print(f\"Output of third neuron: {np.dot(w[2], inputt)}\")"
   ]
  },
  {
   "cell_type": "code",
   "execution_count": 127,
   "metadata": {},
   "outputs": [],
   "source": [
    "feature1 = [8.5, 9.5, 9.9, 9.0]\n",
    "feature2 = [0.65, 0.8, 0.8, 0.9]\n",
    "feature3 = [1.2, 1.3, 0.5, 1.0]"
   ]
  },
  {
   "cell_type": "code",
   "execution_count": 128,
   "metadata": {},
   "outputs": [],
   "source": [
    "l1 = np.array([[0.1, 0.2, -0.1], [-0.1, 0.1, 0.9], [0.1, 0.4, 0.1]])\n",
    "l2 = np.array([[0.3, 1.1, -0.3], [0.1, 0.2, 0.0], [0.0, 1.3, 0.1]])"
   ]
  },
  {
   "cell_type": "code",
   "execution_count": 170,
   "metadata": {},
   "outputs": [],
   "source": [
    "def forward(inputt):\n",
    "    l1_output = np.dot(inputt, l1.T)\n",
    "    output = np.dot(l1_output, l2.T)\n",
    "    return output"
   ]
  },
  {
   "cell_type": "code",
   "execution_count": 171,
   "metadata": {},
   "outputs": [],
   "source": [
    "input1 = [feature1[0], feature2[0], feature3[0]]"
   ]
  },
  {
   "cell_type": "code",
   "execution_count": 172,
   "metadata": {
    "tags": []
   },
   "outputs": [
    {
     "output_type": "execute_result",
     "data": {
      "text/plain": "array([0.2135, 0.145 , 0.5065])"
     },
     "metadata": {},
     "execution_count": 172
    }
   ],
   "source": [
    "forward(input1)"
   ]
  },
  {
   "cell_type": "code",
   "execution_count": null,
   "metadata": {},
   "outputs": [],
   "source": []
  },
  {
   "cell_type": "code",
   "execution_count": null,
   "metadata": {},
   "outputs": [],
   "source": []
  }
 ]
}