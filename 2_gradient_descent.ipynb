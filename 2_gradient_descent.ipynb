{
 "cells": [
  {
   "cell_type": "code",
   "execution_count": null,
   "metadata": {},
   "outputs": [],
   "source": [
    "import numpy as np"
   ]
  },
  {
   "cell_type": "code",
   "execution_count": null,
   "metadata": {},
   "outputs": [],
   "source": [
    "def neural_network(weight, input):\n",
    "    return weight * input"
   ]
  },
  {
   "cell_type": "code",
   "execution_count": null,
   "metadata": {},
   "outputs": [],
   "source": [
    "weight = np.array([0.3])\n",
    "input = np.array([1])"
   ]
  },
  {
   "cell_type": "code",
   "execution_count": null,
   "metadata": {},
   "outputs": [],
   "source": [
    "neural_network(weight, input)"
   ]
  },
  {
   "cell_type": "code",
   "execution_count": null,
   "metadata": {},
   "outputs": [],
   "source": [
    "y_true = 0.8"
   ]
  },
  {
   "cell_type": "code",
   "execution_count": null,
   "metadata": {},
   "outputs": [],
   "source": [
    "y_pred = neural_network(weight, input)"
   ]
  },
  {
   "cell_type": "code",
   "execution_count": null,
   "metadata": {},
   "outputs": [],
   "source": [
    "def mse(y_pred, y_true):\n",
    "    return (y_pred - y_true) ** 2"
   ]
  },
  {
   "cell_type": "code",
   "execution_count": null,
   "metadata": {},
   "outputs": [],
   "source": [
    "y_pred - y_true"
   ]
  },
  {
   "cell_type": "code",
   "execution_count": null,
   "metadata": {
    "tags": []
   },
   "outputs": [],
   "source": [
    "for i in range(20):\n",
    "    y_pred = neural_network(weight, input)\n",
    "    error = mse(y_pred, y_true)\n",
    "    print(f\"Prediction: {y_pred}, loss: {error}\")\n",
    "    value = y_pred - y_true\n",
    "    grad = value * input\n",
    "    weight = weight - grad"
   ]
  },
  {
   "cell_type": "code",
   "execution_count": null,
   "metadata": {},
   "outputs": [],
   "source": [
    "# gradient descent iterations with very low learning_rate\n",
    "learning_rate = 0.001\n",
    "\n",
    "weight = 0.3"
   ]
  },
  {
   "cell_type": "code",
   "execution_count": null,
   "metadata": {
    "tags": []
   },
   "outputs": [],
   "source": [
    "for i in range(200):\n",
    "    y_pred = neural_network(weight, input)\n",
    "    error = mse(y_pred, y_true)\n",
    "    print(f\"Prediction: {y_pred}, loss: {error}\")\n",
    "    value = y_pred - y_true\n",
    "    grad = value * input\n",
    "    weight = weight - learning_rate * grad"
   ]
  },
  {
   "cell_type": "code",
   "execution_count": null,
   "metadata": {},
   "outputs": [],
   "source": [
    "# gradient descent iterations with medium learning_rate\n",
    "learning_rate = 0.01\n",
    "\n",
    "weight = 0.3"
   ]
  },
  {
   "cell_type": "code",
   "execution_count": null,
   "metadata": {
    "tags": []
   },
   "outputs": [],
   "source": [
    "for i in range(200):\n",
    "    y_pred = neural_network(weight, input)\n",
    "    error = mse(y_pred, y_true)\n",
    "    print(f\"Prediction: {y_pred}, loss: {error}\")\n",
    "    value = y_pred - y_true\n",
    "    grad = value * input\n",
    "    weight = weight - learning_rate * grad"
   ]
  },
  {
   "cell_type": "code",
   "execution_count": null,
   "metadata": {},
   "outputs": [],
   "source": [
    "# gradient descent iterations with high learning_rate\n",
    "learning_rate = 0.1\n",
    "\n",
    "weight = 0.3"
   ]
  },
  {
   "cell_type": "code",
   "execution_count": null,
   "metadata": {
    "tags": []
   },
   "outputs": [],
   "source": [
    "for i in range(200):\n",
    "    y_pred = neural_network(weight, input)\n",
    "    error = mse(y_pred, y_true)\n",
    "    print(f\"Prediction: {y_pred}, loss: {error}\")\n",
    "    value = y_pred - y_true\n",
    "    grad = value * input\n",
    "    weight = weight - learning_rate * grad"
   ]
  },
  {
   "cell_type": "code",
   "execution_count": null,
   "metadata": {},
   "outputs": [],
   "source": [
    "# gradient descent iterations with too high learning_rate\n",
    "learning_rate = 10\n",
    "\n",
    "weight = 0.3"
   ]
  },
  {
   "cell_type": "code",
   "execution_count": null,
   "metadata": {
    "tags": []
   },
   "outputs": [],
   "source": [
    "for i in range(200):\n",
    "    y_pred = neural_network(weight, input)\n",
    "    error = mse(y_pred, y_true)\n",
    "    print(f\"Prediction: {y_pred}, loss: {error}\")\n",
    "    value = y_pred - y_true\n",
    "    grad = value * input\n",
    "    weight = weight - learning_rate * grad"
   ]
  },
  {
   "cell_type": "code",
   "execution_count": null,
   "metadata": {},
   "outputs": [],
   "source": []
  },
  {
   "cell_type": "code",
   "execution_count": null,
   "metadata": {},
   "outputs": [],
   "source": []
  },
  {
   "cell_type": "code",
   "execution_count": null,
   "metadata": {},
   "outputs": [],
   "source": []
  },
  {
   "cell_type": "code",
   "execution_count": null,
   "metadata": {},
   "outputs": [],
   "source": []
  },
  {
   "cell_type": "code",
   "execution_count": null,
   "metadata": {},
   "outputs": [],
   "source": []
  }
 ],
 "metadata": {
  "kernelspec": {
   "display_name": "Python 3",
   "language": "python",
   "name": "python3"
  },
  "language_info": {
   "codemirror_mode": {
    "name": "ipython",
    "version": 3
   },
   "file_extension": ".py",
   "mimetype": "text/x-python",
   "name": "python",
   "nbconvert_exporter": "python",
   "pygments_lexer": "ipython3",
   "version": "3.6.10"
  }
 },
 "nbformat": 4,
 "nbformat_minor": 4
}
